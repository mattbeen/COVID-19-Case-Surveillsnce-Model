{
 "cells": [
  {
   "cell_type": "code",
   "execution_count": 26,
   "metadata": {},
   "outputs": [
    {
     "name": "stderr",
     "output_type": "stream",
     "text": [
      "C:\\Users\\hnwong\\Anaconda3\\lib\\site-packages\\IPython\\core\\interactiveshell.py:3071: DtypeWarning: Columns (1) have mixed types.Specify dtype option on import or set low_memory=False.\n",
      "  has_raised = await self.run_ast_nodes(code_ast.body, cell_name,\n"
     ]
    }
   ],
   "source": [
    "import pandas as pd\n",
    "df= pd.read_csv('COVID-19_Case_Surveillance_Public_Use_Data.csv')"
   ]
  },
  {
   "cell_type": "code",
   "execution_count": 27,
   "metadata": {},
   "outputs": [
    {
     "data": {
      "text/html": [
       "<div>\n",
       "<style scoped>\n",
       "    .dataframe tbody tr th:only-of-type {\n",
       "        vertical-align: middle;\n",
       "    }\n",
       "\n",
       "    .dataframe tbody tr th {\n",
       "        vertical-align: top;\n",
       "    }\n",
       "\n",
       "    .dataframe thead th {\n",
       "        text-align: right;\n",
       "    }\n",
       "</style>\n",
       "<table border=\"1\" class=\"dataframe\">\n",
       "  <thead>\n",
       "    <tr style=\"text-align: right;\">\n",
       "      <th></th>\n",
       "      <th>cdc_report_dt</th>\n",
       "      <th>pos_spec_dt</th>\n",
       "      <th>onset_dt</th>\n",
       "      <th>current_status</th>\n",
       "      <th>sex</th>\n",
       "      <th>age_group</th>\n",
       "      <th>Race and ethnicity (combined)</th>\n",
       "      <th>hosp_yn</th>\n",
       "      <th>icu_yn</th>\n",
       "      <th>death_yn</th>\n",
       "      <th>medcond_yn</th>\n",
       "    </tr>\n",
       "  </thead>\n",
       "  <tbody>\n",
       "    <tr>\n",
       "      <th>0</th>\n",
       "      <td>2020/11/10</td>\n",
       "      <td>2020/11/10</td>\n",
       "      <td>NaN</td>\n",
       "      <td>Laboratory-confirmed case</td>\n",
       "      <td>Male</td>\n",
       "      <td>10 - 19 Years</td>\n",
       "      <td>Black, Non-Hispanic</td>\n",
       "      <td>No</td>\n",
       "      <td>Unknown</td>\n",
       "      <td>No</td>\n",
       "      <td>No</td>\n",
       "    </tr>\n",
       "    <tr>\n",
       "      <th>1</th>\n",
       "      <td>2020/11/14</td>\n",
       "      <td>2020/11/10</td>\n",
       "      <td>2020/11/10</td>\n",
       "      <td>Laboratory-confirmed case</td>\n",
       "      <td>Male</td>\n",
       "      <td>10 - 19 Years</td>\n",
       "      <td>Black, Non-Hispanic</td>\n",
       "      <td>No</td>\n",
       "      <td>No</td>\n",
       "      <td>No</td>\n",
       "      <td>No</td>\n",
       "    </tr>\n",
       "    <tr>\n",
       "      <th>2</th>\n",
       "      <td>2020/11/19</td>\n",
       "      <td>2020/11/10</td>\n",
       "      <td>2020/11/09</td>\n",
       "      <td>Laboratory-confirmed case</td>\n",
       "      <td>Male</td>\n",
       "      <td>10 - 19 Years</td>\n",
       "      <td>Black, Non-Hispanic</td>\n",
       "      <td>No</td>\n",
       "      <td>No</td>\n",
       "      <td>No</td>\n",
       "      <td>No</td>\n",
       "    </tr>\n",
       "    <tr>\n",
       "      <th>3</th>\n",
       "      <td>2020/11/14</td>\n",
       "      <td>2020/11/10</td>\n",
       "      <td>NaN</td>\n",
       "      <td>Laboratory-confirmed case</td>\n",
       "      <td>Male</td>\n",
       "      <td>10 - 19 Years</td>\n",
       "      <td>Black, Non-Hispanic</td>\n",
       "      <td>Missing</td>\n",
       "      <td>Missing</td>\n",
       "      <td>No</td>\n",
       "      <td>Missing</td>\n",
       "    </tr>\n",
       "    <tr>\n",
       "      <th>4</th>\n",
       "      <td>2020/11/13</td>\n",
       "      <td>2020/11/10</td>\n",
       "      <td>2020/11/10</td>\n",
       "      <td>Laboratory-confirmed case</td>\n",
       "      <td>Male</td>\n",
       "      <td>10 - 19 Years</td>\n",
       "      <td>Black, Non-Hispanic</td>\n",
       "      <td>No</td>\n",
       "      <td>No</td>\n",
       "      <td>No</td>\n",
       "      <td>Yes</td>\n",
       "    </tr>\n",
       "  </tbody>\n",
       "</table>\n",
       "</div>"
      ],
      "text/plain": [
       "  cdc_report_dt pos_spec_dt    onset_dt             current_status   sex  \\\n",
       "0    2020/11/10  2020/11/10         NaN  Laboratory-confirmed case  Male   \n",
       "1    2020/11/14  2020/11/10  2020/11/10  Laboratory-confirmed case  Male   \n",
       "2    2020/11/19  2020/11/10  2020/11/09  Laboratory-confirmed case  Male   \n",
       "3    2020/11/14  2020/11/10         NaN  Laboratory-confirmed case  Male   \n",
       "4    2020/11/13  2020/11/10  2020/11/10  Laboratory-confirmed case  Male   \n",
       "\n",
       "       age_group Race and ethnicity (combined)  hosp_yn   icu_yn death_yn  \\\n",
       "0  10 - 19 Years           Black, Non-Hispanic       No  Unknown       No   \n",
       "1  10 - 19 Years           Black, Non-Hispanic       No       No       No   \n",
       "2  10 - 19 Years           Black, Non-Hispanic       No       No       No   \n",
       "3  10 - 19 Years           Black, Non-Hispanic  Missing  Missing       No   \n",
       "4  10 - 19 Years           Black, Non-Hispanic       No       No       No   \n",
       "\n",
       "  medcond_yn  \n",
       "0         No  \n",
       "1         No  \n",
       "2         No  \n",
       "3    Missing  \n",
       "4        Yes  "
      ]
     },
     "execution_count": 27,
     "metadata": {},
     "output_type": "execute_result"
    }
   ],
   "source": [
    "df.head()"
   ]
  },
  {
   "cell_type": "code",
   "execution_count": 28,
   "metadata": {},
   "outputs": [],
   "source": [
    "new = df['Race and ethnicity (combined)'].str.split(\",\",n=1,expand=True)"
   ]
  },
  {
   "cell_type": "code",
   "execution_count": 29,
   "metadata": {},
   "outputs": [],
   "source": [
    "df['Race']=new[0]\n",
    "df['Ethnicity']=new[1]"
   ]
  },
  {
   "cell_type": "code",
   "execution_count": 30,
   "metadata": {},
   "outputs": [],
   "source": [
    "df.drop(columns='Race and ethnicity (combined)',inplace=True)"
   ]
  },
  {
   "cell_type": "code",
   "execution_count": 31,
   "metadata": {},
   "outputs": [
    {
     "data": {
      "text/html": [
       "<div>\n",
       "<style scoped>\n",
       "    .dataframe tbody tr th:only-of-type {\n",
       "        vertical-align: middle;\n",
       "    }\n",
       "\n",
       "    .dataframe tbody tr th {\n",
       "        vertical-align: top;\n",
       "    }\n",
       "\n",
       "    .dataframe thead th {\n",
       "        text-align: right;\n",
       "    }\n",
       "</style>\n",
       "<table border=\"1\" class=\"dataframe\">\n",
       "  <thead>\n",
       "    <tr style=\"text-align: right;\">\n",
       "      <th></th>\n",
       "      <th>cdc_report_dt</th>\n",
       "      <th>pos_spec_dt</th>\n",
       "      <th>onset_dt</th>\n",
       "      <th>current_status</th>\n",
       "      <th>sex</th>\n",
       "      <th>age_group</th>\n",
       "      <th>hosp_yn</th>\n",
       "      <th>icu_yn</th>\n",
       "      <th>death_yn</th>\n",
       "      <th>medcond_yn</th>\n",
       "      <th>Race</th>\n",
       "      <th>Ethnicity</th>\n",
       "    </tr>\n",
       "  </thead>\n",
       "  <tbody>\n",
       "    <tr>\n",
       "      <th>0</th>\n",
       "      <td>2020/11/10</td>\n",
       "      <td>2020/11/10</td>\n",
       "      <td>NaN</td>\n",
       "      <td>Laboratory-confirmed case</td>\n",
       "      <td>Male</td>\n",
       "      <td>10 - 19 Years</td>\n",
       "      <td>No</td>\n",
       "      <td>Unknown</td>\n",
       "      <td>No</td>\n",
       "      <td>No</td>\n",
       "      <td>Black</td>\n",
       "      <td>Non-Hispanic</td>\n",
       "    </tr>\n",
       "    <tr>\n",
       "      <th>1</th>\n",
       "      <td>2020/11/14</td>\n",
       "      <td>2020/11/10</td>\n",
       "      <td>2020/11/10</td>\n",
       "      <td>Laboratory-confirmed case</td>\n",
       "      <td>Male</td>\n",
       "      <td>10 - 19 Years</td>\n",
       "      <td>No</td>\n",
       "      <td>No</td>\n",
       "      <td>No</td>\n",
       "      <td>No</td>\n",
       "      <td>Black</td>\n",
       "      <td>Non-Hispanic</td>\n",
       "    </tr>\n",
       "    <tr>\n",
       "      <th>2</th>\n",
       "      <td>2020/11/19</td>\n",
       "      <td>2020/11/10</td>\n",
       "      <td>2020/11/09</td>\n",
       "      <td>Laboratory-confirmed case</td>\n",
       "      <td>Male</td>\n",
       "      <td>10 - 19 Years</td>\n",
       "      <td>No</td>\n",
       "      <td>No</td>\n",
       "      <td>No</td>\n",
       "      <td>No</td>\n",
       "      <td>Black</td>\n",
       "      <td>Non-Hispanic</td>\n",
       "    </tr>\n",
       "    <tr>\n",
       "      <th>3</th>\n",
       "      <td>2020/11/14</td>\n",
       "      <td>2020/11/10</td>\n",
       "      <td>NaN</td>\n",
       "      <td>Laboratory-confirmed case</td>\n",
       "      <td>Male</td>\n",
       "      <td>10 - 19 Years</td>\n",
       "      <td>Missing</td>\n",
       "      <td>Missing</td>\n",
       "      <td>No</td>\n",
       "      <td>Missing</td>\n",
       "      <td>Black</td>\n",
       "      <td>Non-Hispanic</td>\n",
       "    </tr>\n",
       "    <tr>\n",
       "      <th>4</th>\n",
       "      <td>2020/11/13</td>\n",
       "      <td>2020/11/10</td>\n",
       "      <td>2020/11/10</td>\n",
       "      <td>Laboratory-confirmed case</td>\n",
       "      <td>Male</td>\n",
       "      <td>10 - 19 Years</td>\n",
       "      <td>No</td>\n",
       "      <td>No</td>\n",
       "      <td>No</td>\n",
       "      <td>Yes</td>\n",
       "      <td>Black</td>\n",
       "      <td>Non-Hispanic</td>\n",
       "    </tr>\n",
       "    <tr>\n",
       "      <th>...</th>\n",
       "      <td>...</td>\n",
       "      <td>...</td>\n",
       "      <td>...</td>\n",
       "      <td>...</td>\n",
       "      <td>...</td>\n",
       "      <td>...</td>\n",
       "      <td>...</td>\n",
       "      <td>...</td>\n",
       "      <td>...</td>\n",
       "      <td>...</td>\n",
       "      <td>...</td>\n",
       "      <td>...</td>\n",
       "    </tr>\n",
       "    <tr>\n",
       "      <th>8405074</th>\n",
       "      <td>2020/10/22</td>\n",
       "      <td>NaN</td>\n",
       "      <td>NaN</td>\n",
       "      <td>Probable Case</td>\n",
       "      <td>Missing</td>\n",
       "      <td>30 - 39 Years</td>\n",
       "      <td>No</td>\n",
       "      <td>Unknown</td>\n",
       "      <td>No</td>\n",
       "      <td>Missing</td>\n",
       "      <td>Unknown</td>\n",
       "      <td>None</td>\n",
       "    </tr>\n",
       "    <tr>\n",
       "      <th>8405075</th>\n",
       "      <td>2020/10/25</td>\n",
       "      <td>NaN</td>\n",
       "      <td>NaN</td>\n",
       "      <td>Laboratory-confirmed case</td>\n",
       "      <td>Missing</td>\n",
       "      <td>30 - 39 Years</td>\n",
       "      <td>Missing</td>\n",
       "      <td>Missing</td>\n",
       "      <td>Missing</td>\n",
       "      <td>Missing</td>\n",
       "      <td>Unknown</td>\n",
       "      <td>None</td>\n",
       "    </tr>\n",
       "    <tr>\n",
       "      <th>8405076</th>\n",
       "      <td>2020/07/18</td>\n",
       "      <td>NaN</td>\n",
       "      <td>NaN</td>\n",
       "      <td>Laboratory-confirmed case</td>\n",
       "      <td>Missing</td>\n",
       "      <td>30 - 39 Years</td>\n",
       "      <td>Missing</td>\n",
       "      <td>Missing</td>\n",
       "      <td>Missing</td>\n",
       "      <td>Missing</td>\n",
       "      <td>Unknown</td>\n",
       "      <td>None</td>\n",
       "    </tr>\n",
       "    <tr>\n",
       "      <th>8405077</th>\n",
       "      <td>2020/11/19</td>\n",
       "      <td>NaN</td>\n",
       "      <td>NaN</td>\n",
       "      <td>Laboratory-confirmed case</td>\n",
       "      <td>Missing</td>\n",
       "      <td>30 - 39 Years</td>\n",
       "      <td>Missing</td>\n",
       "      <td>Missing</td>\n",
       "      <td>Missing</td>\n",
       "      <td>Missing</td>\n",
       "      <td>Unknown</td>\n",
       "      <td>None</td>\n",
       "    </tr>\n",
       "    <tr>\n",
       "      <th>8405078</th>\n",
       "      <td>2020/11/03</td>\n",
       "      <td>NaN</td>\n",
       "      <td>NaN</td>\n",
       "      <td>Laboratory-confirmed case</td>\n",
       "      <td>Missing</td>\n",
       "      <td>30 - 39 Years</td>\n",
       "      <td>No</td>\n",
       "      <td>Unknown</td>\n",
       "      <td>No</td>\n",
       "      <td>Missing</td>\n",
       "      <td>Unknown</td>\n",
       "      <td>None</td>\n",
       "    </tr>\n",
       "  </tbody>\n",
       "</table>\n",
       "<p>8405079 rows × 12 columns</p>\n",
       "</div>"
      ],
      "text/plain": [
       "        cdc_report_dt pos_spec_dt    onset_dt             current_status  \\\n",
       "0          2020/11/10  2020/11/10         NaN  Laboratory-confirmed case   \n",
       "1          2020/11/14  2020/11/10  2020/11/10  Laboratory-confirmed case   \n",
       "2          2020/11/19  2020/11/10  2020/11/09  Laboratory-confirmed case   \n",
       "3          2020/11/14  2020/11/10         NaN  Laboratory-confirmed case   \n",
       "4          2020/11/13  2020/11/10  2020/11/10  Laboratory-confirmed case   \n",
       "...               ...         ...         ...                        ...   \n",
       "8405074    2020/10/22         NaN         NaN              Probable Case   \n",
       "8405075    2020/10/25         NaN         NaN  Laboratory-confirmed case   \n",
       "8405076    2020/07/18         NaN         NaN  Laboratory-confirmed case   \n",
       "8405077    2020/11/19         NaN         NaN  Laboratory-confirmed case   \n",
       "8405078    2020/11/03         NaN         NaN  Laboratory-confirmed case   \n",
       "\n",
       "             sex      age_group  hosp_yn   icu_yn death_yn medcond_yn  \\\n",
       "0           Male  10 - 19 Years       No  Unknown       No         No   \n",
       "1           Male  10 - 19 Years       No       No       No         No   \n",
       "2           Male  10 - 19 Years       No       No       No         No   \n",
       "3           Male  10 - 19 Years  Missing  Missing       No    Missing   \n",
       "4           Male  10 - 19 Years       No       No       No        Yes   \n",
       "...          ...            ...      ...      ...      ...        ...   \n",
       "8405074  Missing  30 - 39 Years       No  Unknown       No    Missing   \n",
       "8405075  Missing  30 - 39 Years  Missing  Missing  Missing    Missing   \n",
       "8405076  Missing  30 - 39 Years  Missing  Missing  Missing    Missing   \n",
       "8405077  Missing  30 - 39 Years  Missing  Missing  Missing    Missing   \n",
       "8405078  Missing  30 - 39 Years       No  Unknown       No    Missing   \n",
       "\n",
       "            Race      Ethnicity  \n",
       "0          Black   Non-Hispanic  \n",
       "1          Black   Non-Hispanic  \n",
       "2          Black   Non-Hispanic  \n",
       "3          Black   Non-Hispanic  \n",
       "4          Black   Non-Hispanic  \n",
       "...          ...            ...  \n",
       "8405074  Unknown           None  \n",
       "8405075  Unknown           None  \n",
       "8405076  Unknown           None  \n",
       "8405077  Unknown           None  \n",
       "8405078  Unknown           None  \n",
       "\n",
       "[8405079 rows x 12 columns]"
      ]
     },
     "execution_count": 31,
     "metadata": {},
     "output_type": "execute_result"
    }
   ],
   "source": [
    "df"
   ]
  },
  {
   "cell_type": "code",
   "execution_count": 32,
   "metadata": {},
   "outputs": [
    {
     "data": {
      "text/plain": [
       "(8405079, 12)"
      ]
     },
     "execution_count": 32,
     "metadata": {},
     "output_type": "execute_result"
    }
   ],
   "source": [
    "df.shape"
   ]
  },
  {
   "cell_type": "code",
   "execution_count": 33,
   "metadata": {},
   "outputs": [
    {
     "data": {
      "text/plain": [
       "cdc_report_dt           0\n",
       "pos_spec_dt       5534290\n",
       "onset_dt          4009122\n",
       "current_status          0\n",
       "sex                    18\n",
       "age_group              89\n",
       "hosp_yn                 0\n",
       "icu_yn                  0\n",
       "death_yn                0\n",
       "medcond_yn              0\n",
       "Race                    7\n",
       "Ethnicity         4578441\n",
       "dtype: int64"
      ]
     },
     "execution_count": 33,
     "metadata": {},
     "output_type": "execute_result"
    }
   ],
   "source": [
    "df.isnull().sum()"
   ]
  },
  {
   "cell_type": "code",
   "execution_count": 34,
   "metadata": {},
   "outputs": [],
   "source": [
    "df=df.drop(['pos_spec_dt','onset_dt','Ethnicity'],axis=1)"
   ]
  },
  {
   "cell_type": "code",
   "execution_count": 35,
   "metadata": {},
   "outputs": [],
   "source": [
    "df=df.dropna()"
   ]
  },
  {
   "cell_type": "code",
   "execution_count": 36,
   "metadata": {},
   "outputs": [
    {
     "data": {
      "text/html": [
       "<div>\n",
       "<style scoped>\n",
       "    .dataframe tbody tr th:only-of-type {\n",
       "        vertical-align: middle;\n",
       "    }\n",
       "\n",
       "    .dataframe tbody tr th {\n",
       "        vertical-align: top;\n",
       "    }\n",
       "\n",
       "    .dataframe thead th {\n",
       "        text-align: right;\n",
       "    }\n",
       "</style>\n",
       "<table border=\"1\" class=\"dataframe\">\n",
       "  <thead>\n",
       "    <tr style=\"text-align: right;\">\n",
       "      <th></th>\n",
       "      <th>cdc_report_dt</th>\n",
       "      <th>current_status</th>\n",
       "      <th>sex</th>\n",
       "      <th>age_group</th>\n",
       "      <th>hosp_yn</th>\n",
       "      <th>icu_yn</th>\n",
       "      <th>death_yn</th>\n",
       "      <th>medcond_yn</th>\n",
       "      <th>Race</th>\n",
       "    </tr>\n",
       "  </thead>\n",
       "  <tbody>\n",
       "    <tr>\n",
       "      <th>0</th>\n",
       "      <td>2020/11/10</td>\n",
       "      <td>Laboratory-confirmed case</td>\n",
       "      <td>Male</td>\n",
       "      <td>10 - 19 Years</td>\n",
       "      <td>No</td>\n",
       "      <td>Unknown</td>\n",
       "      <td>No</td>\n",
       "      <td>No</td>\n",
       "      <td>Black</td>\n",
       "    </tr>\n",
       "    <tr>\n",
       "      <th>1</th>\n",
       "      <td>2020/11/14</td>\n",
       "      <td>Laboratory-confirmed case</td>\n",
       "      <td>Male</td>\n",
       "      <td>10 - 19 Years</td>\n",
       "      <td>No</td>\n",
       "      <td>No</td>\n",
       "      <td>No</td>\n",
       "      <td>No</td>\n",
       "      <td>Black</td>\n",
       "    </tr>\n",
       "    <tr>\n",
       "      <th>2</th>\n",
       "      <td>2020/11/19</td>\n",
       "      <td>Laboratory-confirmed case</td>\n",
       "      <td>Male</td>\n",
       "      <td>10 - 19 Years</td>\n",
       "      <td>No</td>\n",
       "      <td>No</td>\n",
       "      <td>No</td>\n",
       "      <td>No</td>\n",
       "      <td>Black</td>\n",
       "    </tr>\n",
       "    <tr>\n",
       "      <th>3</th>\n",
       "      <td>2020/11/14</td>\n",
       "      <td>Laboratory-confirmed case</td>\n",
       "      <td>Male</td>\n",
       "      <td>10 - 19 Years</td>\n",
       "      <td>Missing</td>\n",
       "      <td>Missing</td>\n",
       "      <td>No</td>\n",
       "      <td>Missing</td>\n",
       "      <td>Black</td>\n",
       "    </tr>\n",
       "    <tr>\n",
       "      <th>4</th>\n",
       "      <td>2020/11/13</td>\n",
       "      <td>Laboratory-confirmed case</td>\n",
       "      <td>Male</td>\n",
       "      <td>10 - 19 Years</td>\n",
       "      <td>No</td>\n",
       "      <td>No</td>\n",
       "      <td>No</td>\n",
       "      <td>Yes</td>\n",
       "      <td>Black</td>\n",
       "    </tr>\n",
       "    <tr>\n",
       "      <th>...</th>\n",
       "      <td>...</td>\n",
       "      <td>...</td>\n",
       "      <td>...</td>\n",
       "      <td>...</td>\n",
       "      <td>...</td>\n",
       "      <td>...</td>\n",
       "      <td>...</td>\n",
       "      <td>...</td>\n",
       "      <td>...</td>\n",
       "    </tr>\n",
       "    <tr>\n",
       "      <th>8405074</th>\n",
       "      <td>2020/10/22</td>\n",
       "      <td>Probable Case</td>\n",
       "      <td>Missing</td>\n",
       "      <td>30 - 39 Years</td>\n",
       "      <td>No</td>\n",
       "      <td>Unknown</td>\n",
       "      <td>No</td>\n",
       "      <td>Missing</td>\n",
       "      <td>Unknown</td>\n",
       "    </tr>\n",
       "    <tr>\n",
       "      <th>8405075</th>\n",
       "      <td>2020/10/25</td>\n",
       "      <td>Laboratory-confirmed case</td>\n",
       "      <td>Missing</td>\n",
       "      <td>30 - 39 Years</td>\n",
       "      <td>Missing</td>\n",
       "      <td>Missing</td>\n",
       "      <td>Missing</td>\n",
       "      <td>Missing</td>\n",
       "      <td>Unknown</td>\n",
       "    </tr>\n",
       "    <tr>\n",
       "      <th>8405076</th>\n",
       "      <td>2020/07/18</td>\n",
       "      <td>Laboratory-confirmed case</td>\n",
       "      <td>Missing</td>\n",
       "      <td>30 - 39 Years</td>\n",
       "      <td>Missing</td>\n",
       "      <td>Missing</td>\n",
       "      <td>Missing</td>\n",
       "      <td>Missing</td>\n",
       "      <td>Unknown</td>\n",
       "    </tr>\n",
       "    <tr>\n",
       "      <th>8405077</th>\n",
       "      <td>2020/11/19</td>\n",
       "      <td>Laboratory-confirmed case</td>\n",
       "      <td>Missing</td>\n",
       "      <td>30 - 39 Years</td>\n",
       "      <td>Missing</td>\n",
       "      <td>Missing</td>\n",
       "      <td>Missing</td>\n",
       "      <td>Missing</td>\n",
       "      <td>Unknown</td>\n",
       "    </tr>\n",
       "    <tr>\n",
       "      <th>8405078</th>\n",
       "      <td>2020/11/03</td>\n",
       "      <td>Laboratory-confirmed case</td>\n",
       "      <td>Missing</td>\n",
       "      <td>30 - 39 Years</td>\n",
       "      <td>No</td>\n",
       "      <td>Unknown</td>\n",
       "      <td>No</td>\n",
       "      <td>Missing</td>\n",
       "      <td>Unknown</td>\n",
       "    </tr>\n",
       "  </tbody>\n",
       "</table>\n",
       "<p>8404990 rows × 9 columns</p>\n",
       "</div>"
      ],
      "text/plain": [
       "        cdc_report_dt             current_status      sex      age_group  \\\n",
       "0          2020/11/10  Laboratory-confirmed case     Male  10 - 19 Years   \n",
       "1          2020/11/14  Laboratory-confirmed case     Male  10 - 19 Years   \n",
       "2          2020/11/19  Laboratory-confirmed case     Male  10 - 19 Years   \n",
       "3          2020/11/14  Laboratory-confirmed case     Male  10 - 19 Years   \n",
       "4          2020/11/13  Laboratory-confirmed case     Male  10 - 19 Years   \n",
       "...               ...                        ...      ...            ...   \n",
       "8405074    2020/10/22              Probable Case  Missing  30 - 39 Years   \n",
       "8405075    2020/10/25  Laboratory-confirmed case  Missing  30 - 39 Years   \n",
       "8405076    2020/07/18  Laboratory-confirmed case  Missing  30 - 39 Years   \n",
       "8405077    2020/11/19  Laboratory-confirmed case  Missing  30 - 39 Years   \n",
       "8405078    2020/11/03  Laboratory-confirmed case  Missing  30 - 39 Years   \n",
       "\n",
       "         hosp_yn   icu_yn death_yn medcond_yn     Race  \n",
       "0             No  Unknown       No         No    Black  \n",
       "1             No       No       No         No    Black  \n",
       "2             No       No       No         No    Black  \n",
       "3        Missing  Missing       No    Missing    Black  \n",
       "4             No       No       No        Yes    Black  \n",
       "...          ...      ...      ...        ...      ...  \n",
       "8405074       No  Unknown       No    Missing  Unknown  \n",
       "8405075  Missing  Missing  Missing    Missing  Unknown  \n",
       "8405076  Missing  Missing  Missing    Missing  Unknown  \n",
       "8405077  Missing  Missing  Missing    Missing  Unknown  \n",
       "8405078       No  Unknown       No    Missing  Unknown  \n",
       "\n",
       "[8404990 rows x 9 columns]"
      ]
     },
     "execution_count": 36,
     "metadata": {},
     "output_type": "execute_result"
    }
   ],
   "source": [
    "df"
   ]
  },
  {
   "cell_type": "code",
   "execution_count": 37,
   "metadata": {},
   "outputs": [
    {
     "data": {
      "text/plain": [
       "(8404990, 9)"
      ]
     },
     "execution_count": 37,
     "metadata": {},
     "output_type": "execute_result"
    }
   ],
   "source": [
    "df.shape"
   ]
  },
  {
   "cell_type": "code",
   "execution_count": 38,
   "metadata": {},
   "outputs": [
    {
     "data": {
      "text/html": [
       "<div>\n",
       "<style scoped>\n",
       "    .dataframe tbody tr th:only-of-type {\n",
       "        vertical-align: middle;\n",
       "    }\n",
       "\n",
       "    .dataframe tbody tr th {\n",
       "        vertical-align: top;\n",
       "    }\n",
       "\n",
       "    .dataframe thead th {\n",
       "        text-align: right;\n",
       "    }\n",
       "</style>\n",
       "<table border=\"1\" class=\"dataframe\">\n",
       "  <thead>\n",
       "    <tr style=\"text-align: right;\">\n",
       "      <th></th>\n",
       "      <th>cdc_report_dt</th>\n",
       "      <th>current_status</th>\n",
       "      <th>sex</th>\n",
       "      <th>hosp_yn</th>\n",
       "      <th>icu_yn</th>\n",
       "      <th>death_yn</th>\n",
       "      <th>medcond_yn</th>\n",
       "      <th>Race</th>\n",
       "    </tr>\n",
       "    <tr>\n",
       "      <th>age_group</th>\n",
       "      <th></th>\n",
       "      <th></th>\n",
       "      <th></th>\n",
       "      <th></th>\n",
       "      <th></th>\n",
       "      <th></th>\n",
       "      <th></th>\n",
       "      <th></th>\n",
       "    </tr>\n",
       "  </thead>\n",
       "  <tbody>\n",
       "    <tr>\n",
       "      <th>0 - 9 Years</th>\n",
       "      <td>299040</td>\n",
       "      <td>299040</td>\n",
       "      <td>299040</td>\n",
       "      <td>299040</td>\n",
       "      <td>299040</td>\n",
       "      <td>299040</td>\n",
       "      <td>299040</td>\n",
       "      <td>299040</td>\n",
       "    </tr>\n",
       "    <tr>\n",
       "      <th>10 - 19 Years</th>\n",
       "      <td>841450</td>\n",
       "      <td>841450</td>\n",
       "      <td>841450</td>\n",
       "      <td>841450</td>\n",
       "      <td>841450</td>\n",
       "      <td>841450</td>\n",
       "      <td>841450</td>\n",
       "      <td>841450</td>\n",
       "    </tr>\n",
       "    <tr>\n",
       "      <th>20 - 29 Years</th>\n",
       "      <td>1635264</td>\n",
       "      <td>1635264</td>\n",
       "      <td>1635264</td>\n",
       "      <td>1635264</td>\n",
       "      <td>1635264</td>\n",
       "      <td>1635264</td>\n",
       "      <td>1635264</td>\n",
       "      <td>1635264</td>\n",
       "    </tr>\n",
       "    <tr>\n",
       "      <th>30 - 39 Years</th>\n",
       "      <td>1372623</td>\n",
       "      <td>1372623</td>\n",
       "      <td>1372623</td>\n",
       "      <td>1372623</td>\n",
       "      <td>1372623</td>\n",
       "      <td>1372623</td>\n",
       "      <td>1372623</td>\n",
       "      <td>1372623</td>\n",
       "    </tr>\n",
       "    <tr>\n",
       "      <th>40 - 49 Years</th>\n",
       "      <td>1267350</td>\n",
       "      <td>1267350</td>\n",
       "      <td>1267350</td>\n",
       "      <td>1267350</td>\n",
       "      <td>1267350</td>\n",
       "      <td>1267350</td>\n",
       "      <td>1267350</td>\n",
       "      <td>1267350</td>\n",
       "    </tr>\n",
       "    <tr>\n",
       "      <th>50 - 59 Years</th>\n",
       "      <td>1227493</td>\n",
       "      <td>1227493</td>\n",
       "      <td>1227493</td>\n",
       "      <td>1227493</td>\n",
       "      <td>1227493</td>\n",
       "      <td>1227493</td>\n",
       "      <td>1227493</td>\n",
       "      <td>1227493</td>\n",
       "    </tr>\n",
       "    <tr>\n",
       "      <th>60 - 69 Years</th>\n",
       "      <td>863260</td>\n",
       "      <td>863260</td>\n",
       "      <td>863260</td>\n",
       "      <td>863260</td>\n",
       "      <td>863260</td>\n",
       "      <td>863260</td>\n",
       "      <td>863260</td>\n",
       "      <td>863260</td>\n",
       "    </tr>\n",
       "    <tr>\n",
       "      <th>70 - 79 Years</th>\n",
       "      <td>483689</td>\n",
       "      <td>483689</td>\n",
       "      <td>483689</td>\n",
       "      <td>483689</td>\n",
       "      <td>483689</td>\n",
       "      <td>483689</td>\n",
       "      <td>483689</td>\n",
       "      <td>483689</td>\n",
       "    </tr>\n",
       "    <tr>\n",
       "      <th>80+ Years</th>\n",
       "      <td>382869</td>\n",
       "      <td>382869</td>\n",
       "      <td>382869</td>\n",
       "      <td>382869</td>\n",
       "      <td>382869</td>\n",
       "      <td>382869</td>\n",
       "      <td>382869</td>\n",
       "      <td>382869</td>\n",
       "    </tr>\n",
       "    <tr>\n",
       "      <th>Unknown</th>\n",
       "      <td>31952</td>\n",
       "      <td>31952</td>\n",
       "      <td>31952</td>\n",
       "      <td>31952</td>\n",
       "      <td>31952</td>\n",
       "      <td>31952</td>\n",
       "      <td>31952</td>\n",
       "      <td>31952</td>\n",
       "    </tr>\n",
       "  </tbody>\n",
       "</table>\n",
       "</div>"
      ],
      "text/plain": [
       "               cdc_report_dt  current_status      sex  hosp_yn   icu_yn  \\\n",
       "age_group                                                                 \n",
       "0 - 9 Years           299040          299040   299040   299040   299040   \n",
       "10 - 19 Years         841450          841450   841450   841450   841450   \n",
       "20 - 29 Years        1635264         1635264  1635264  1635264  1635264   \n",
       "30 - 39 Years        1372623         1372623  1372623  1372623  1372623   \n",
       "40 - 49 Years        1267350         1267350  1267350  1267350  1267350   \n",
       "50 - 59 Years        1227493         1227493  1227493  1227493  1227493   \n",
       "60 - 69 Years         863260          863260   863260   863260   863260   \n",
       "70 - 79 Years         483689          483689   483689   483689   483689   \n",
       "80+ Years             382869          382869   382869   382869   382869   \n",
       "Unknown                31952           31952    31952    31952    31952   \n",
       "\n",
       "               death_yn  medcond_yn     Race  \n",
       "age_group                                     \n",
       "0 - 9 Years      299040      299040   299040  \n",
       "10 - 19 Years    841450      841450   841450  \n",
       "20 - 29 Years   1635264     1635264  1635264  \n",
       "30 - 39 Years   1372623     1372623  1372623  \n",
       "40 - 49 Years   1267350     1267350  1267350  \n",
       "50 - 59 Years   1227493     1227493  1227493  \n",
       "60 - 69 Years    863260      863260   863260  \n",
       "70 - 79 Years    483689      483689   483689  \n",
       "80+ Years        382869      382869   382869  \n",
       "Unknown           31952       31952    31952  "
      ]
     },
     "execution_count": 38,
     "metadata": {},
     "output_type": "execute_result"
    }
   ],
   "source": [
    "df.groupby(['age_group']).count()"
   ]
  },
  {
   "cell_type": "code",
   "execution_count": 39,
   "metadata": {},
   "outputs": [
    {
     "data": {
      "text/html": [
       "<div>\n",
       "<style scoped>\n",
       "    .dataframe tbody tr th:only-of-type {\n",
       "        vertical-align: middle;\n",
       "    }\n",
       "\n",
       "    .dataframe tbody tr th {\n",
       "        vertical-align: top;\n",
       "    }\n",
       "\n",
       "    .dataframe thead th {\n",
       "        text-align: right;\n",
       "    }\n",
       "</style>\n",
       "<table border=\"1\" class=\"dataframe\">\n",
       "  <thead>\n",
       "    <tr style=\"text-align: right;\">\n",
       "      <th></th>\n",
       "      <th>count</th>\n",
       "      <th>unique</th>\n",
       "      <th>top</th>\n",
       "      <th>freq</th>\n",
       "    </tr>\n",
       "  </thead>\n",
       "  <tbody>\n",
       "    <tr>\n",
       "      <th>cdc_report_dt</th>\n",
       "      <td>8404990</td>\n",
       "      <td>321</td>\n",
       "      <td>2020/06/24</td>\n",
       "      <td>155856</td>\n",
       "    </tr>\n",
       "    <tr>\n",
       "      <th>current_status</th>\n",
       "      <td>8404990</td>\n",
       "      <td>2</td>\n",
       "      <td>Laboratory-confirmed case</td>\n",
       "      <td>7910037</td>\n",
       "    </tr>\n",
       "    <tr>\n",
       "      <th>sex</th>\n",
       "      <td>8404990</td>\n",
       "      <td>5</td>\n",
       "      <td>Female</td>\n",
       "      <td>4340898</td>\n",
       "    </tr>\n",
       "    <tr>\n",
       "      <th>age_group</th>\n",
       "      <td>8404990</td>\n",
       "      <td>10</td>\n",
       "      <td>20 - 29 Years</td>\n",
       "      <td>1635264</td>\n",
       "    </tr>\n",
       "    <tr>\n",
       "      <th>hosp_yn</th>\n",
       "      <td>8404990</td>\n",
       "      <td>4</td>\n",
       "      <td>No</td>\n",
       "      <td>3502508</td>\n",
       "    </tr>\n",
       "    <tr>\n",
       "      <th>icu_yn</th>\n",
       "      <td>8404990</td>\n",
       "      <td>4</td>\n",
       "      <td>Missing</td>\n",
       "      <td>6178240</td>\n",
       "    </tr>\n",
       "    <tr>\n",
       "      <th>death_yn</th>\n",
       "      <td>8404990</td>\n",
       "      <td>4</td>\n",
       "      <td>No</td>\n",
       "      <td>3690765</td>\n",
       "    </tr>\n",
       "    <tr>\n",
       "      <th>medcond_yn</th>\n",
       "      <td>8404990</td>\n",
       "      <td>4</td>\n",
       "      <td>Missing</td>\n",
       "      <td>6063360</td>\n",
       "    </tr>\n",
       "    <tr>\n",
       "      <th>Race</th>\n",
       "      <td>8404990</td>\n",
       "      <td>9</td>\n",
       "      <td>Unknown</td>\n",
       "      <td>2781165</td>\n",
       "    </tr>\n",
       "  </tbody>\n",
       "</table>\n",
       "</div>"
      ],
      "text/plain": [
       "                  count unique                        top     freq\n",
       "cdc_report_dt   8404990    321                 2020/06/24   155856\n",
       "current_status  8404990      2  Laboratory-confirmed case  7910037\n",
       "sex             8404990      5                     Female  4340898\n",
       "age_group       8404990     10              20 - 29 Years  1635264\n",
       "hosp_yn         8404990      4                         No  3502508\n",
       "icu_yn          8404990      4                    Missing  6178240\n",
       "death_yn        8404990      4                         No  3690765\n",
       "medcond_yn      8404990      4                    Missing  6063360\n",
       "Race            8404990      9                    Unknown  2781165"
      ]
     },
     "execution_count": 39,
     "metadata": {},
     "output_type": "execute_result"
    }
   ],
   "source": [
    "df.describe().T"
   ]
  },
  {
   "cell_type": "code",
   "execution_count": 43,
   "metadata": {},
   "outputs": [
    {
     "data": {
      "text/plain": [
       "<matplotlib.axes._subplots.AxesSubplot at 0x117fa8a90>"
      ]
     },
     "execution_count": 43,
     "metadata": {},
     "output_type": "execute_result"
    },
    {
     "data": {
      "image/png": "[encoded data removed]",
      "text/plain": [
       "<Figure size 432x288 with 1 Axes>"
      ]
     },
     "metadata": {},
     "output_type": "display_data"
    }
   ],
   "source": [
    "df['medcond_yn'].value_counts().plot.pie(autopct=\"%1.1f%%\")"
   ]
  },
  {
   "cell_type": "code",
   "execution_count": 44,
   "metadata": {},
   "outputs": [
    {
     "data": {
      "text/plain": [
       "<matplotlib.axes._subplots.AxesSubplot at 0x117606280>"
      ]
     },
     "execution_count": 44,
     "metadata": {},
     "output_type": "execute_result"
    },
    {
     "data": {
      "image/png": "[encoded data removed]",
      "text/plain": [
       "<Figure size 432x288 with 1 Axes>"
      ]
     },
     "metadata": {},
     "output_type": "display_data"
    }
   ],
   "source": [
    "df['death_yn'].value_counts().plot.pie(autopct=\"%1.1f%%\")"
   ]
  },
  {
   "cell_type": "code",
   "execution_count": 45,
   "metadata": {},
   "outputs": [
    {
     "data": {
      "text/plain": [
       "<matplotlib.axes._subplots.AxesSubplot at 0x1172f75e0>"
      ]
     },
     "execution_count": 45,
     "metadata": {},
     "output_type": "execute_result"
    },
    {
     "data": {
      "image/png": "[encoded data removed]",
      "text/plain": [
       "<Figure size 432x288 with 1 Axes>"
      ]
     },
     "metadata": {},
     "output_type": "display_data"
    }
   ],
   "source": [
    "df['hosp_yn'].value_counts().plot.pie(autopct=\"%1.1f%%\")"
   ]
  },
  {
   "cell_type": "code",
   "execution_count": 46,
   "metadata": {},
   "outputs": [
    {
     "data": {
      "text/plain": [
       "<matplotlib.axes._subplots.AxesSubplot at 0x116fdb8b0>"
      ]
     },
     "execution_count": 46,
     "metadata": {},
     "output_type": "execute_result"
    },
    {
     "data": {
      "image/png": "[encoded data removed]",
      "text/plain": [
       "<Figure size 432x288 with 1 Axes>"
      ]
     },
     "metadata": {},
     "output_type": "display_data"
    }
   ],
   "source": [
    "df['icu_yn'].value_counts().plot.pie(autopct=\"%1.1f%%\")"
   ]
  },
  {
   "cell_type": "code",
   "execution_count": 48,
   "metadata": {},
   "outputs": [
    {
     "data": {
      "text/plain": [
       "<matplotlib.axes._subplots.AxesSubplot at 0x116d28970>"
      ]
     },
     "execution_count": 48,
     "metadata": {},
     "output_type": "execute_result"
    },
    {
     "data": {
      "image/png": "[encoded data removed]",
      "text/plain": [
       "<Figure size 432x288 with 1 Axes>"
      ]
     },
     "metadata": {},
     "output_type": "display_data"
    }
   ],
   "source": [
    "df['current_status'].value_counts().plot.pie(autopct=\"%1.1f%%\")"
   ]
  },
  {
   "cell_type": "code",
   "execution_count": 49,
   "metadata": {},
   "outputs": [
    {
     "data": {
      "text/plain": [
       "<matplotlib.axes._subplots.AxesSubplot at 0x1169e5a90>"
      ]
     },
     "execution_count": 49,
     "metadata": {},
     "output_type": "execute_result"
    },
    {
     "data": {
      "image/png": "[encoded data removed]",
      "text/plain": [
       "<Figure size 432x288 with 1 Axes>"
      ]
     },
     "metadata": {},
     "output_type": "display_data"
    }
   ],
   "source": [
    "df['Race'].value_counts().plot.pie(autopct=\"%1.1f%%\")"
   ]
  },
  {
   "cell_type": "code",
   "execution_count": 54,
   "metadata": {},
   "outputs": [
    {
     "data": {
      "text/plain": [
       "<matplotlib.axes._subplots.AxesSubplot at 0xc9a178b0>"
      ]
     },
     "execution_count": 54,
     "metadata": {},
     "output_type": "execute_result"
    },
    {
     "data": {
      "image/png": "[encoded data removed]",
      "text/plain": [
       "<Figure size 720x432 with 1 Axes>"
      ]
     },
     "metadata": {
      "needs_background": "light"
     },
     "output_type": "display_data"
    }
   ],
   "source": [
    "import matplotlib.pyplot as plt\n",
    "import seaborn as sns\n",
    "plt.figure(figsize=(10,6))\n",
    "sns.countplot(y=\"current_status\",hue ='sex',data=df)"
   ]
  },
  {
   "cell_type": "code",
   "execution_count": 55,
   "metadata": {},
   "outputs": [
    {
     "data": {
      "text/plain": [
       "<matplotlib.axes._subplots.AxesSubplot at 0xc924ba90>"
      ]
     },
     "execution_count": 55,
     "metadata": {},
     "output_type": "execute_result"
    },
    {
     "data": {
      "image/png": "[encoded data removed]",
      "text/plain": [
       "<Figure size 720x432 with 1 Axes>"
      ]
     },
     "metadata": {
      "needs_background": "light"
     },
     "output_type": "display_data"
    }
   ],
   "source": [
    "plt.figure(figsize=(10,6))\n",
    "sns.countplot(y=\"medcond_yn\",hue ='sex',data=df)"
   ]
  },
  {
   "cell_type": "code",
   "execution_count": 56,
   "metadata": {},
   "outputs": [
    {
     "data": {
      "text/plain": [
       "<matplotlib.axes._subplots.AxesSubplot at 0xc83f1e20>"
      ]
     },
     "execution_count": 56,
     "metadata": {},
     "output_type": "execute_result"
    },
    {
     "data": {
      "image/png": "[encoded data removed]",
      "text/plain": [
       "<Figure size 720x432 with 1 Axes>"
      ]
     },
     "metadata": {
      "needs_background": "light"
     },
     "output_type": "display_data"
    }
   ],
   "source": [
    "plt.figure(figsize=(10,6))\n",
    "sns.countplot(y=\"death_yn\",hue ='sex',data=df)"
   ]
  },
  {
   "cell_type": "code",
   "execution_count": 57,
   "metadata": {},
   "outputs": [
    {
     "data": {
      "text/plain": [
       "<matplotlib.axes._subplots.AxesSubplot at 0xc8355790>"
      ]
     },
     "execution_count": 57,
     "metadata": {},
     "output_type": "execute_result"
    },
    {
     "data": {
      "image/png": "[encoded data removed]",
      "text/plain": [
       "<Figure size 720x432 with 1 Axes>"
      ]
     },
     "metadata": {
      "needs_background": "light"
     },
     "output_type": "display_data"
    }
   ],
   "source": [
    "plt.figure(figsize=(10,6))\n",
    "sns.countplot(y=\"age_group\",data=df)"
   ]
  },
  {
   "cell_type": "code",
   "execution_count": 58,
   "metadata": {},
   "outputs": [
    {
     "data": {
      "text/plain": [
       "<matplotlib.axes._subplots.AxesSubplot at 0xc7782250>"
      ]
     },
     "execution_count": 58,
     "metadata": {},
     "output_type": "execute_result"
    },
    {
     "data": {
      "image/png": "[encoded data removed]",
      "text/plain": [
       "<Figure size 720x576 with 1 Axes>"
      ]
     },
     "metadata": {
      "needs_background": "light"
     },
     "output_type": "display_data"
    }
   ],
   "source": [
    "plt.figure(figsize=(10,8))\n",
    "sns.countplot(y=\"age_group\",hue ='sex',data=df)"
   ]
  },
  {
   "cell_type": "code",
   "execution_count": 59,
   "metadata": {},
   "outputs": [
    {
     "data": {
      "text/plain": [
       "20 - 29 Years    1635264\n",
       "30 - 39 Years    1372623\n",
       "40 - 49 Years    1267350\n",
       "50 - 59 Years    1227493\n",
       "60 - 69 Years     863260\n",
       "10 - 19 Years     841450\n",
       "70 - 79 Years     483689\n",
       "80+ Years         382869\n",
       "0 - 9 Years       299040\n",
       "Unknown            31952\n",
       "Name: age_group, dtype: int64"
      ]
     },
     "execution_count": 59,
     "metadata": {},
     "output_type": "execute_result"
    }
   ],
   "source": [
    "df['age_group'].value_counts()"
   ]
  },
  {
   "cell_type": "markdown",
   "metadata": {},
   "source": [
    "## Data Preparation"
   ]
  },
  {
   "cell_type": "code",
   "execution_count": 60,
   "metadata": {},
   "outputs": [],
   "source": [
    "data=df.copy()"
   ]
  },
  {
   "cell_type": "code",
   "execution_count": 61,
   "metadata": {},
   "outputs": [
    {
     "data": {
      "text/plain": [
       "Female     4340898\n",
       "Male       3970591\n",
       "Unknown      73838\n",
       "Missing      19508\n",
       "Other          155\n",
       "Name: sex, dtype: int64"
      ]
     },
     "execution_count": 61,
     "metadata": {},
     "output_type": "execute_result"
    }
   ],
   "source": [
    "data['sex'].value_counts()"
   ]
  },
  {
   "cell_type": "code",
   "execution_count": 62,
   "metadata": {},
   "outputs": [
    {
     "name": "stdout",
     "output_type": "stream",
     "text": [
      "<class 'pandas.core.frame.DataFrame'>\n",
      "Int64Index: 8404990 entries, 0 to 8405078\n",
      "Data columns (total 9 columns):\n",
      " #   Column          Dtype \n",
      "---  ------          ----- \n",
      " 0   cdc_report_dt   object\n",
      " 1   current_status  object\n",
      " 2   sex             object\n",
      " 3   age_group       object\n",
      " 4   hosp_yn         object\n",
      " 5   icu_yn          object\n",
      " 6   death_yn        object\n",
      " 7   medcond_yn      object\n",
      " 8   Race            object\n",
      "dtypes: object(9)\n",
      "memory usage: 641.2+ MB\n"
     ]
    }
   ],
   "source": [
    "data.info()"
   ]
  },
  {
   "cell_type": "code",
   "execution_count": 66,
   "metadata": {},
   "outputs": [],
   "source": [
    "data.drop(['cdc_report_dt'],axis=1,inplace=True)"
   ]
  },
  {
   "cell_type": "code",
   "execution_count": 67,
   "metadata": {},
   "outputs": [
    {
     "data": {
      "text/html": [
       "<div>\n",
       "<style scoped>\n",
       "    .dataframe tbody tr th:only-of-type {\n",
       "        vertical-align: middle;\n",
       "    }\n",
       "\n",
       "    .dataframe tbody tr th {\n",
       "        vertical-align: top;\n",
       "    }\n",
       "\n",
       "    .dataframe thead th {\n",
       "        text-align: right;\n",
       "    }\n",
       "</style>\n",
       "<table border=\"1\" class=\"dataframe\">\n",
       "  <thead>\n",
       "    <tr style=\"text-align: right;\">\n",
       "      <th></th>\n",
       "      <th>current_status</th>\n",
       "      <th>sex</th>\n",
       "      <th>age_group</th>\n",
       "      <th>hosp_yn</th>\n",
       "      <th>icu_yn</th>\n",
       "      <th>death_yn</th>\n",
       "      <th>medcond_yn</th>\n",
       "      <th>Race</th>\n",
       "    </tr>\n",
       "  </thead>\n",
       "  <tbody>\n",
       "    <tr>\n",
       "      <th>0</th>\n",
       "      <td>Laboratory-confirmed case</td>\n",
       "      <td>Male</td>\n",
       "      <td>10 - 19 Years</td>\n",
       "      <td>No</td>\n",
       "      <td>Unknown</td>\n",
       "      <td>No</td>\n",
       "      <td>No</td>\n",
       "      <td>Black</td>\n",
       "    </tr>\n",
       "    <tr>\n",
       "      <th>1</th>\n",
       "      <td>Laboratory-confirmed case</td>\n",
       "      <td>Male</td>\n",
       "      <td>10 - 19 Years</td>\n",
       "      <td>No</td>\n",
       "      <td>No</td>\n",
       "      <td>No</td>\n",
       "      <td>No</td>\n",
       "      <td>Black</td>\n",
       "    </tr>\n",
       "    <tr>\n",
       "      <th>2</th>\n",
       "      <td>Laboratory-confirmed case</td>\n",
       "      <td>Male</td>\n",
       "      <td>10 - 19 Years</td>\n",
       "      <td>No</td>\n",
       "      <td>No</td>\n",
       "      <td>No</td>\n",
       "      <td>No</td>\n",
       "      <td>Black</td>\n",
       "    </tr>\n",
       "    <tr>\n",
       "      <th>3</th>\n",
       "      <td>Laboratory-confirmed case</td>\n",
       "      <td>Male</td>\n",
       "      <td>10 - 19 Years</td>\n",
       "      <td>Missing</td>\n",
       "      <td>Missing</td>\n",
       "      <td>No</td>\n",
       "      <td>Missing</td>\n",
       "      <td>Black</td>\n",
       "    </tr>\n",
       "    <tr>\n",
       "      <th>4</th>\n",
       "      <td>Laboratory-confirmed case</td>\n",
       "      <td>Male</td>\n",
       "      <td>10 - 19 Years</td>\n",
       "      <td>No</td>\n",
       "      <td>No</td>\n",
       "      <td>No</td>\n",
       "      <td>Yes</td>\n",
       "      <td>Black</td>\n",
       "    </tr>\n",
       "    <tr>\n",
       "      <th>...</th>\n",
       "      <td>...</td>\n",
       "      <td>...</td>\n",
       "      <td>...</td>\n",
       "      <td>...</td>\n",
       "      <td>...</td>\n",
       "      <td>...</td>\n",
       "      <td>...</td>\n",
       "      <td>...</td>\n",
       "    </tr>\n",
       "    <tr>\n",
       "      <th>8405074</th>\n",
       "      <td>Probable Case</td>\n",
       "      <td>Missing</td>\n",
       "      <td>30 - 39 Years</td>\n",
       "      <td>No</td>\n",
       "      <td>Unknown</td>\n",
       "      <td>No</td>\n",
       "      <td>Missing</td>\n",
       "      <td>Unknown</td>\n",
       "    </tr>\n",
       "    <tr>\n",
       "      <th>8405075</th>\n",
       "      <td>Laboratory-confirmed case</td>\n",
       "      <td>Missing</td>\n",
       "      <td>30 - 39 Years</td>\n",
       "      <td>Missing</td>\n",
       "      <td>Missing</td>\n",
       "      <td>Missing</td>\n",
       "      <td>Missing</td>\n",
       "      <td>Unknown</td>\n",
       "    </tr>\n",
       "    <tr>\n",
       "      <th>8405076</th>\n",
       "      <td>Laboratory-confirmed case</td>\n",
       "      <td>Missing</td>\n",
       "      <td>30 - 39 Years</td>\n",
       "      <td>Missing</td>\n",
       "      <td>Missing</td>\n",
       "      <td>Missing</td>\n",
       "      <td>Missing</td>\n",
       "      <td>Unknown</td>\n",
       "    </tr>\n",
       "    <tr>\n",
       "      <th>8405077</th>\n",
       "      <td>Laboratory-confirmed case</td>\n",
       "      <td>Missing</td>\n",
       "      <td>30 - 39 Years</td>\n",
       "      <td>Missing</td>\n",
       "      <td>Missing</td>\n",
       "      <td>Missing</td>\n",
       "      <td>Missing</td>\n",
       "      <td>Unknown</td>\n",
       "    </tr>\n",
       "    <tr>\n",
       "      <th>8405078</th>\n",
       "      <td>Laboratory-confirmed case</td>\n",
       "      <td>Missing</td>\n",
       "      <td>30 - 39 Years</td>\n",
       "      <td>No</td>\n",
       "      <td>Unknown</td>\n",
       "      <td>No</td>\n",
       "      <td>Missing</td>\n",
       "      <td>Unknown</td>\n",
       "    </tr>\n",
       "  </tbody>\n",
       "</table>\n",
       "<p>8404990 rows × 8 columns</p>\n",
       "</div>"
      ],
      "text/plain": [
       "                    current_status      sex      age_group  hosp_yn   icu_yn  \\\n",
       "0        Laboratory-confirmed case     Male  10 - 19 Years       No  Unknown   \n",
       "1        Laboratory-confirmed case     Male  10 - 19 Years       No       No   \n",
       "2        Laboratory-confirmed case     Male  10 - 19 Years       No       No   \n",
       "3        Laboratory-confirmed case     Male  10 - 19 Years  Missing  Missing   \n",
       "4        Laboratory-confirmed case     Male  10 - 19 Years       No       No   \n",
       "...                            ...      ...            ...      ...      ...   \n",
       "8405074              Probable Case  Missing  30 - 39 Years       No  Unknown   \n",
       "8405075  Laboratory-confirmed case  Missing  30 - 39 Years  Missing  Missing   \n",
       "8405076  Laboratory-confirmed case  Missing  30 - 39 Years  Missing  Missing   \n",
       "8405077  Laboratory-confirmed case  Missing  30 - 39 Years  Missing  Missing   \n",
       "8405078  Laboratory-confirmed case  Missing  30 - 39 Years       No  Unknown   \n",
       "\n",
       "        death_yn medcond_yn     Race  \n",
       "0             No         No    Black  \n",
       "1             No         No    Black  \n",
       "2             No         No    Black  \n",
       "3             No    Missing    Black  \n",
       "4             No        Yes    Black  \n",
       "...          ...        ...      ...  \n",
       "8405074       No    Missing  Unknown  \n",
       "8405075  Missing    Missing  Unknown  \n",
       "8405076  Missing    Missing  Unknown  \n",
       "8405077  Missing    Missing  Unknown  \n",
       "8405078       No    Missing  Unknown  \n",
       "\n",
       "[8404990 rows x 8 columns]"
      ]
     },
     "execution_count": 67,
     "metadata": {},
     "output_type": "execute_result"
    }
   ],
   "source": [
    "data"
   ]
  },
  {
   "cell_type": "code",
   "execution_count": 68,
   "metadata": {
    "scrolled": true
   },
   "outputs": [
    {
     "data": {
      "text/html": [
       "<style  type=\"text/css\" >\n",
       "</style><table id=\"T_c724a4da_54a8_11eb_bc6a_9457a5ee4b1b\" ><thead>    <tr>        <th class=\"blank level0\" ></th>        <th class=\"col_heading level0 col0\" >Description</th>        <th class=\"col_heading level0 col1\" >Value</th>    </tr></thead><tbody>\n",
       "                <tr>\n",
       "                        <th id=\"T_c724a4da_54a8_11eb_bc6a_9457a5ee4b1blevel0_row0\" class=\"row_heading level0 row0\" >0</th>\n",
       "                        <td id=\"T_c724a4da_54a8_11eb_bc6a_9457a5ee4b1brow0_col0\" class=\"data row0 col0\" >session_id</td>\n",
       "                        <td id=\"T_c724a4da_54a8_11eb_bc6a_9457a5ee4b1brow0_col1\" class=\"data row0 col1\" >5830</td>\n",
       "            </tr>\n",
       "            <tr>\n",
       "                        <th id=\"T_c724a4da_54a8_11eb_bc6a_9457a5ee4b1blevel0_row1\" class=\"row_heading level0 row1\" >1</th>\n",
       "                        <td id=\"T_c724a4da_54a8_11eb_bc6a_9457a5ee4b1brow1_col0\" class=\"data row1 col0\" >Target</td>\n",
       "                        <td id=\"T_c724a4da_54a8_11eb_bc6a_9457a5ee4b1brow1_col1\" class=\"data row1 col1\" >death_yn</td>\n",
       "            </tr>\n",
       "            <tr>\n",
       "                        <th id=\"T_c724a4da_54a8_11eb_bc6a_9457a5ee4b1blevel0_row2\" class=\"row_heading level0 row2\" >2</th>\n",
       "                        <td id=\"T_c724a4da_54a8_11eb_bc6a_9457a5ee4b1brow2_col0\" class=\"data row2 col0\" >Target Type</td>\n",
       "                        <td id=\"T_c724a4da_54a8_11eb_bc6a_9457a5ee4b1brow2_col1\" class=\"data row2 col1\" >Multiclass</td>\n",
       "            </tr>\n",
       "            <tr>\n",
       "                        <th id=\"T_c724a4da_54a8_11eb_bc6a_9457a5ee4b1blevel0_row3\" class=\"row_heading level0 row3\" >3</th>\n",
       "                        <td id=\"T_c724a4da_54a8_11eb_bc6a_9457a5ee4b1brow3_col0\" class=\"data row3 col0\" >Label Encoded</td>\n",
       "                        <td id=\"T_c724a4da_54a8_11eb_bc6a_9457a5ee4b1brow3_col1\" class=\"data row3 col1\" >Missing: 0, No: 1, Unknown: 2, Yes: 3</td>\n",
       "            </tr>\n",
       "            <tr>\n",
       "                        <th id=\"T_c724a4da_54a8_11eb_bc6a_9457a5ee4b1blevel0_row4\" class=\"row_heading level0 row4\" >4</th>\n",
       "                        <td id=\"T_c724a4da_54a8_11eb_bc6a_9457a5ee4b1brow4_col0\" class=\"data row4 col0\" >Original Data</td>\n",
       "                        <td id=\"T_c724a4da_54a8_11eb_bc6a_9457a5ee4b1brow4_col1\" class=\"data row4 col1\" >(8404990, 8)</td>\n",
       "            </tr>\n",
       "            <tr>\n",
       "                        <th id=\"T_c724a4da_54a8_11eb_bc6a_9457a5ee4b1blevel0_row5\" class=\"row_heading level0 row5\" >5</th>\n",
       "                        <td id=\"T_c724a4da_54a8_11eb_bc6a_9457a5ee4b1brow5_col0\" class=\"data row5 col0\" >Missing Values</td>\n",
       "                        <td id=\"T_c724a4da_54a8_11eb_bc6a_9457a5ee4b1brow5_col1\" class=\"data row5 col1\" >False</td>\n",
       "            </tr>\n",
       "            <tr>\n",
       "                        <th id=\"T_c724a4da_54a8_11eb_bc6a_9457a5ee4b1blevel0_row6\" class=\"row_heading level0 row6\" >6</th>\n",
       "                        <td id=\"T_c724a4da_54a8_11eb_bc6a_9457a5ee4b1brow6_col0\" class=\"data row6 col0\" >Numeric Features</td>\n",
       "                        <td id=\"T_c724a4da_54a8_11eb_bc6a_9457a5ee4b1brow6_col1\" class=\"data row6 col1\" >0</td>\n",
       "            </tr>\n",
       "            <tr>\n",
       "                        <th id=\"T_c724a4da_54a8_11eb_bc6a_9457a5ee4b1blevel0_row7\" class=\"row_heading level0 row7\" >7</th>\n",
       "                        <td id=\"T_c724a4da_54a8_11eb_bc6a_9457a5ee4b1brow7_col0\" class=\"data row7 col0\" >Categorical Features</td>\n",
       "                        <td id=\"T_c724a4da_54a8_11eb_bc6a_9457a5ee4b1brow7_col1\" class=\"data row7 col1\" >7</td>\n",
       "            </tr>\n",
       "            <tr>\n",
       "                        <th id=\"T_c724a4da_54a8_11eb_bc6a_9457a5ee4b1blevel0_row8\" class=\"row_heading level0 row8\" >8</th>\n",
       "                        <td id=\"T_c724a4da_54a8_11eb_bc6a_9457a5ee4b1brow8_col0\" class=\"data row8 col0\" >Ordinal Features</td>\n",
       "                        <td id=\"T_c724a4da_54a8_11eb_bc6a_9457a5ee4b1brow8_col1\" class=\"data row8 col1\" >False</td>\n",
       "            </tr>\n",
       "            <tr>\n",
       "                        <th id=\"T_c724a4da_54a8_11eb_bc6a_9457a5ee4b1blevel0_row9\" class=\"row_heading level0 row9\" >9</th>\n",
       "                        <td id=\"T_c724a4da_54a8_11eb_bc6a_9457a5ee4b1brow9_col0\" class=\"data row9 col0\" >High Cardinality Features</td>\n",
       "                        <td id=\"T_c724a4da_54a8_11eb_bc6a_9457a5ee4b1brow9_col1\" class=\"data row9 col1\" >False</td>\n",
       "            </tr>\n",
       "            <tr>\n",
       "                        <th id=\"T_c724a4da_54a8_11eb_bc6a_9457a5ee4b1blevel0_row10\" class=\"row_heading level0 row10\" >10</th>\n",
       "                        <td id=\"T_c724a4da_54a8_11eb_bc6a_9457a5ee4b1brow10_col0\" class=\"data row10 col0\" >High Cardinality Method</td>\n",
       "                        <td id=\"T_c724a4da_54a8_11eb_bc6a_9457a5ee4b1brow10_col1\" class=\"data row10 col1\" >None</td>\n",
       "            </tr>\n",
       "            <tr>\n",
       "                        <th id=\"T_c724a4da_54a8_11eb_bc6a_9457a5ee4b1blevel0_row11\" class=\"row_heading level0 row11\" >11</th>\n",
       "                        <td id=\"T_c724a4da_54a8_11eb_bc6a_9457a5ee4b1brow11_col0\" class=\"data row11 col0\" >Transformed Train Set</td>\n",
       "                        <td id=\"T_c724a4da_54a8_11eb_bc6a_9457a5ee4b1brow11_col1\" class=\"data row11 col1\" >(6723992, 37)</td>\n",
       "            </tr>\n",
       "            <tr>\n",
       "                        <th id=\"T_c724a4da_54a8_11eb_bc6a_9457a5ee4b1blevel0_row12\" class=\"row_heading level0 row12\" >12</th>\n",
       "                        <td id=\"T_c724a4da_54a8_11eb_bc6a_9457a5ee4b1brow12_col0\" class=\"data row12 col0\" >Transformed Test Set</td>\n",
       "                        <td id=\"T_c724a4da_54a8_11eb_bc6a_9457a5ee4b1brow12_col1\" class=\"data row12 col1\" >(1680998, 37)</td>\n",
       "            </tr>\n",
       "            <tr>\n",
       "                        <th id=\"T_c724a4da_54a8_11eb_bc6a_9457a5ee4b1blevel0_row13\" class=\"row_heading level0 row13\" >13</th>\n",
       "                        <td id=\"T_c724a4da_54a8_11eb_bc6a_9457a5ee4b1brow13_col0\" class=\"data row13 col0\" >Shuffle Train-Test</td>\n",
       "                        <td id=\"T_c724a4da_54a8_11eb_bc6a_9457a5ee4b1brow13_col1\" class=\"data row13 col1\" >True</td>\n",
       "            </tr>\n",
       "            <tr>\n",
       "                        <th id=\"T_c724a4da_54a8_11eb_bc6a_9457a5ee4b1blevel0_row14\" class=\"row_heading level0 row14\" >14</th>\n",
       "                        <td id=\"T_c724a4da_54a8_11eb_bc6a_9457a5ee4b1brow14_col0\" class=\"data row14 col0\" >Stratify Train-Test</td>\n",
       "                        <td id=\"T_c724a4da_54a8_11eb_bc6a_9457a5ee4b1brow14_col1\" class=\"data row14 col1\" >False</td>\n",
       "            </tr>\n",
       "            <tr>\n",
       "                        <th id=\"T_c724a4da_54a8_11eb_bc6a_9457a5ee4b1blevel0_row15\" class=\"row_heading level0 row15\" >15</th>\n",
       "                        <td id=\"T_c724a4da_54a8_11eb_bc6a_9457a5ee4b1brow15_col0\" class=\"data row15 col0\" >Fold Generator</td>\n",
       "                        <td id=\"T_c724a4da_54a8_11eb_bc6a_9457a5ee4b1brow15_col1\" class=\"data row15 col1\" >StratifiedKFold</td>\n",
       "            </tr>\n",
       "            <tr>\n",
       "                        <th id=\"T_c724a4da_54a8_11eb_bc6a_9457a5ee4b1blevel0_row16\" class=\"row_heading level0 row16\" >16</th>\n",
       "                        <td id=\"T_c724a4da_54a8_11eb_bc6a_9457a5ee4b1brow16_col0\" class=\"data row16 col0\" >Fold Number</td>\n",
       "                        <td id=\"T_c724a4da_54a8_11eb_bc6a_9457a5ee4b1brow16_col1\" class=\"data row16 col1\" >10</td>\n",
       "            </tr>\n",
       "            <tr>\n",
       "                        <th id=\"T_c724a4da_54a8_11eb_bc6a_9457a5ee4b1blevel0_row17\" class=\"row_heading level0 row17\" >17</th>\n",
       "                        <td id=\"T_c724a4da_54a8_11eb_bc6a_9457a5ee4b1brow17_col0\" class=\"data row17 col0\" >CPU Jobs</td>\n",
       "                        <td id=\"T_c724a4da_54a8_11eb_bc6a_9457a5ee4b1brow17_col1\" class=\"data row17 col1\" >-1</td>\n",
       "            </tr>\n",
       "            <tr>\n",
       "                        <th id=\"T_c724a4da_54a8_11eb_bc6a_9457a5ee4b1blevel0_row18\" class=\"row_heading level0 row18\" >18</th>\n",
       "                        <td id=\"T_c724a4da_54a8_11eb_bc6a_9457a5ee4b1brow18_col0\" class=\"data row18 col0\" >Use GPU</td>\n",
       "                        <td id=\"T_c724a4da_54a8_11eb_bc6a_9457a5ee4b1brow18_col1\" class=\"data row18 col1\" >False</td>\n",
       "            </tr>\n",
       "            <tr>\n",
       "                        <th id=\"T_c724a4da_54a8_11eb_bc6a_9457a5ee4b1blevel0_row19\" class=\"row_heading level0 row19\" >19</th>\n",
       "                        <td id=\"T_c724a4da_54a8_11eb_bc6a_9457a5ee4b1brow19_col0\" class=\"data row19 col0\" >Log Experiment</td>\n",
       "                        <td id=\"T_c724a4da_54a8_11eb_bc6a_9457a5ee4b1brow19_col1\" class=\"data row19 col1\" >False</td>\n",
       "            </tr>\n",
       "            <tr>\n",
       "                        <th id=\"T_c724a4da_54a8_11eb_bc6a_9457a5ee4b1blevel0_row20\" class=\"row_heading level0 row20\" >20</th>\n",
       "                        <td id=\"T_c724a4da_54a8_11eb_bc6a_9457a5ee4b1brow20_col0\" class=\"data row20 col0\" >Experiment Name</td>\n",
       "                        <td id=\"T_c724a4da_54a8_11eb_bc6a_9457a5ee4b1brow20_col1\" class=\"data row20 col1\" >clf-default-name</td>\n",
       "            </tr>\n",
       "            <tr>\n",
       "                        <th id=\"T_c724a4da_54a8_11eb_bc6a_9457a5ee4b1blevel0_row21\" class=\"row_heading level0 row21\" >21</th>\n",
       "                        <td id=\"T_c724a4da_54a8_11eb_bc6a_9457a5ee4b1brow21_col0\" class=\"data row21 col0\" >USI</td>\n",
       "                        <td id=\"T_c724a4da_54a8_11eb_bc6a_9457a5ee4b1brow21_col1\" class=\"data row21 col1\" >fcfb</td>\n",
       "            </tr>\n",
       "            <tr>\n",
       "                        <th id=\"T_c724a4da_54a8_11eb_bc6a_9457a5ee4b1blevel0_row22\" class=\"row_heading level0 row22\" >22</th>\n",
       "                        <td id=\"T_c724a4da_54a8_11eb_bc6a_9457a5ee4b1brow22_col0\" class=\"data row22 col0\" >Imputation Type</td>\n",
       "                        <td id=\"T_c724a4da_54a8_11eb_bc6a_9457a5ee4b1brow22_col1\" class=\"data row22 col1\" >simple</td>\n",
       "            </tr>\n",
       "            <tr>\n",
       "                        <th id=\"T_c724a4da_54a8_11eb_bc6a_9457a5ee4b1blevel0_row23\" class=\"row_heading level0 row23\" >23</th>\n",
       "                        <td id=\"T_c724a4da_54a8_11eb_bc6a_9457a5ee4b1brow23_col0\" class=\"data row23 col0\" >Iterative Imputation Iteration</td>\n",
       "                        <td id=\"T_c724a4da_54a8_11eb_bc6a_9457a5ee4b1brow23_col1\" class=\"data row23 col1\" >None</td>\n",
       "            </tr>\n",
       "            <tr>\n",
       "                        <th id=\"T_c724a4da_54a8_11eb_bc6a_9457a5ee4b1blevel0_row24\" class=\"row_heading level0 row24\" >24</th>\n",
       "                        <td id=\"T_c724a4da_54a8_11eb_bc6a_9457a5ee4b1brow24_col0\" class=\"data row24 col0\" >Numeric Imputer</td>\n",
       "                        <td id=\"T_c724a4da_54a8_11eb_bc6a_9457a5ee4b1brow24_col1\" class=\"data row24 col1\" >mean</td>\n",
       "            </tr>\n",
       "            <tr>\n",
       "                        <th id=\"T_c724a4da_54a8_11eb_bc6a_9457a5ee4b1blevel0_row25\" class=\"row_heading level0 row25\" >25</th>\n",
       "                        <td id=\"T_c724a4da_54a8_11eb_bc6a_9457a5ee4b1brow25_col0\" class=\"data row25 col0\" >Iterative Imputation Numeric Model</td>\n",
       "                        <td id=\"T_c724a4da_54a8_11eb_bc6a_9457a5ee4b1brow25_col1\" class=\"data row25 col1\" >None</td>\n",
       "            </tr>\n",
       "            <tr>\n",
       "                        <th id=\"T_c724a4da_54a8_11eb_bc6a_9457a5ee4b1blevel0_row26\" class=\"row_heading level0 row26\" >26</th>\n",
       "                        <td id=\"T_c724a4da_54a8_11eb_bc6a_9457a5ee4b1brow26_col0\" class=\"data row26 col0\" >Categorical Imputer</td>\n",
       "                        <td id=\"T_c724a4da_54a8_11eb_bc6a_9457a5ee4b1brow26_col1\" class=\"data row26 col1\" >constant</td>\n",
       "            </tr>\n",
       "            <tr>\n",
       "                        <th id=\"T_c724a4da_54a8_11eb_bc6a_9457a5ee4b1blevel0_row27\" class=\"row_heading level0 row27\" >27</th>\n",
       "                        <td id=\"T_c724a4da_54a8_11eb_bc6a_9457a5ee4b1brow27_col0\" class=\"data row27 col0\" >Iterative Imputation Categorical Model</td>\n",
       "                        <td id=\"T_c724a4da_54a8_11eb_bc6a_9457a5ee4b1brow27_col1\" class=\"data row27 col1\" >None</td>\n",
       "            </tr>\n",
       "            <tr>\n",
       "                        <th id=\"T_c724a4da_54a8_11eb_bc6a_9457a5ee4b1blevel0_row28\" class=\"row_heading level0 row28\" >28</th>\n",
       "                        <td id=\"T_c724a4da_54a8_11eb_bc6a_9457a5ee4b1brow28_col0\" class=\"data row28 col0\" >Unknown Categoricals Handling</td>\n",
       "                        <td id=\"T_c724a4da_54a8_11eb_bc6a_9457a5ee4b1brow28_col1\" class=\"data row28 col1\" >least_frequent</td>\n",
       "            </tr>\n",
       "            <tr>\n",
       "                        <th id=\"T_c724a4da_54a8_11eb_bc6a_9457a5ee4b1blevel0_row29\" class=\"row_heading level0 row29\" >29</th>\n",
       "                        <td id=\"T_c724a4da_54a8_11eb_bc6a_9457a5ee4b1brow29_col0\" class=\"data row29 col0\" >Normalize</td>\n",
       "                        <td id=\"T_c724a4da_54a8_11eb_bc6a_9457a5ee4b1brow29_col1\" class=\"data row29 col1\" >False</td>\n",
       "            </tr>\n",
       "            <tr>\n",
       "                        <th id=\"T_c724a4da_54a8_11eb_bc6a_9457a5ee4b1blevel0_row30\" class=\"row_heading level0 row30\" >30</th>\n",
       "                        <td id=\"T_c724a4da_54a8_11eb_bc6a_9457a5ee4b1brow30_col0\" class=\"data row30 col0\" >Normalize Method</td>\n",
       "                        <td id=\"T_c724a4da_54a8_11eb_bc6a_9457a5ee4b1brow30_col1\" class=\"data row30 col1\" >None</td>\n",
       "            </tr>\n",
       "            <tr>\n",
       "                        <th id=\"T_c724a4da_54a8_11eb_bc6a_9457a5ee4b1blevel0_row31\" class=\"row_heading level0 row31\" >31</th>\n",
       "                        <td id=\"T_c724a4da_54a8_11eb_bc6a_9457a5ee4b1brow31_col0\" class=\"data row31 col0\" >Transformation</td>\n",
       "                        <td id=\"T_c724a4da_54a8_11eb_bc6a_9457a5ee4b1brow31_col1\" class=\"data row31 col1\" >False</td>\n",
       "            </tr>\n",
       "            <tr>\n",
       "                        <th id=\"T_c724a4da_54a8_11eb_bc6a_9457a5ee4b1blevel0_row32\" class=\"row_heading level0 row32\" >32</th>\n",
       "                        <td id=\"T_c724a4da_54a8_11eb_bc6a_9457a5ee4b1brow32_col0\" class=\"data row32 col0\" >Transformation Method</td>\n",
       "                        <td id=\"T_c724a4da_54a8_11eb_bc6a_9457a5ee4b1brow32_col1\" class=\"data row32 col1\" >None</td>\n",
       "            </tr>\n",
       "            <tr>\n",
       "                        <th id=\"T_c724a4da_54a8_11eb_bc6a_9457a5ee4b1blevel0_row33\" class=\"row_heading level0 row33\" >33</th>\n",
       "                        <td id=\"T_c724a4da_54a8_11eb_bc6a_9457a5ee4b1brow33_col0\" class=\"data row33 col0\" >PCA</td>\n",
       "                        <td id=\"T_c724a4da_54a8_11eb_bc6a_9457a5ee4b1brow33_col1\" class=\"data row33 col1\" >False</td>\n",
       "            </tr>\n",
       "            <tr>\n",
       "                        <th id=\"T_c724a4da_54a8_11eb_bc6a_9457a5ee4b1blevel0_row34\" class=\"row_heading level0 row34\" >34</th>\n",
       "                        <td id=\"T_c724a4da_54a8_11eb_bc6a_9457a5ee4b1brow34_col0\" class=\"data row34 col0\" >PCA Method</td>\n",
       "                        <td id=\"T_c724a4da_54a8_11eb_bc6a_9457a5ee4b1brow34_col1\" class=\"data row34 col1\" >None</td>\n",
       "            </tr>\n",
       "            <tr>\n",
       "                        <th id=\"T_c724a4da_54a8_11eb_bc6a_9457a5ee4b1blevel0_row35\" class=\"row_heading level0 row35\" >35</th>\n",
       "                        <td id=\"T_c724a4da_54a8_11eb_bc6a_9457a5ee4b1brow35_col0\" class=\"data row35 col0\" >PCA Components</td>\n",
       "                        <td id=\"T_c724a4da_54a8_11eb_bc6a_9457a5ee4b1brow35_col1\" class=\"data row35 col1\" >None</td>\n",
       "            </tr>\n",
       "            <tr>\n",
       "                        <th id=\"T_c724a4da_54a8_11eb_bc6a_9457a5ee4b1blevel0_row36\" class=\"row_heading level0 row36\" >36</th>\n",
       "                        <td id=\"T_c724a4da_54a8_11eb_bc6a_9457a5ee4b1brow36_col0\" class=\"data row36 col0\" >Ignore Low Variance</td>\n",
       "                        <td id=\"T_c724a4da_54a8_11eb_bc6a_9457a5ee4b1brow36_col1\" class=\"data row36 col1\" >False</td>\n",
       "            </tr>\n",
       "            <tr>\n",
       "                        <th id=\"T_c724a4da_54a8_11eb_bc6a_9457a5ee4b1blevel0_row37\" class=\"row_heading level0 row37\" >37</th>\n",
       "                        <td id=\"T_c724a4da_54a8_11eb_bc6a_9457a5ee4b1brow37_col0\" class=\"data row37 col0\" >Combine Rare Levels</td>\n",
       "                        <td id=\"T_c724a4da_54a8_11eb_bc6a_9457a5ee4b1brow37_col1\" class=\"data row37 col1\" >False</td>\n",
       "            </tr>\n",
       "            <tr>\n",
       "                        <th id=\"T_c724a4da_54a8_11eb_bc6a_9457a5ee4b1blevel0_row38\" class=\"row_heading level0 row38\" >38</th>\n",
       "                        <td id=\"T_c724a4da_54a8_11eb_bc6a_9457a5ee4b1brow38_col0\" class=\"data row38 col0\" >Rare Level Threshold</td>\n",
       "                        <td id=\"T_c724a4da_54a8_11eb_bc6a_9457a5ee4b1brow38_col1\" class=\"data row38 col1\" >None</td>\n",
       "            </tr>\n",
       "            <tr>\n",
       "                        <th id=\"T_c724a4da_54a8_11eb_bc6a_9457a5ee4b1blevel0_row39\" class=\"row_heading level0 row39\" >39</th>\n",
       "                        <td id=\"T_c724a4da_54a8_11eb_bc6a_9457a5ee4b1brow39_col0\" class=\"data row39 col0\" >Numeric Binning</td>\n",
       "                        <td id=\"T_c724a4da_54a8_11eb_bc6a_9457a5ee4b1brow39_col1\" class=\"data row39 col1\" >False</td>\n",
       "            </tr>\n",
       "            <tr>\n",
       "                        <th id=\"T_c724a4da_54a8_11eb_bc6a_9457a5ee4b1blevel0_row40\" class=\"row_heading level0 row40\" >40</th>\n",
       "                        <td id=\"T_c724a4da_54a8_11eb_bc6a_9457a5ee4b1brow40_col0\" class=\"data row40 col0\" >Remove Outliers</td>\n",
       "                        <td id=\"T_c724a4da_54a8_11eb_bc6a_9457a5ee4b1brow40_col1\" class=\"data row40 col1\" >False</td>\n",
       "            </tr>\n",
       "            <tr>\n",
       "                        <th id=\"T_c724a4da_54a8_11eb_bc6a_9457a5ee4b1blevel0_row41\" class=\"row_heading level0 row41\" >41</th>\n",
       "                        <td id=\"T_c724a4da_54a8_11eb_bc6a_9457a5ee4b1brow41_col0\" class=\"data row41 col0\" >Outliers Threshold</td>\n",
       "                        <td id=\"T_c724a4da_54a8_11eb_bc6a_9457a5ee4b1brow41_col1\" class=\"data row41 col1\" >None</td>\n",
       "            </tr>\n",
       "            <tr>\n",
       "                        <th id=\"T_c724a4da_54a8_11eb_bc6a_9457a5ee4b1blevel0_row42\" class=\"row_heading level0 row42\" >42</th>\n",
       "                        <td id=\"T_c724a4da_54a8_11eb_bc6a_9457a5ee4b1brow42_col0\" class=\"data row42 col0\" >Remove Multicollinearity</td>\n",
       "                        <td id=\"T_c724a4da_54a8_11eb_bc6a_9457a5ee4b1brow42_col1\" class=\"data row42 col1\" >False</td>\n",
       "            </tr>\n",
       "            <tr>\n",
       "                        <th id=\"T_c724a4da_54a8_11eb_bc6a_9457a5ee4b1blevel0_row43\" class=\"row_heading level0 row43\" >43</th>\n",
       "                        <td id=\"T_c724a4da_54a8_11eb_bc6a_9457a5ee4b1brow43_col0\" class=\"data row43 col0\" >Multicollinearity Threshold</td>\n",
       "                        <td id=\"T_c724a4da_54a8_11eb_bc6a_9457a5ee4b1brow43_col1\" class=\"data row43 col1\" >None</td>\n",
       "            </tr>\n",
       "            <tr>\n",
       "                        <th id=\"T_c724a4da_54a8_11eb_bc6a_9457a5ee4b1blevel0_row44\" class=\"row_heading level0 row44\" >44</th>\n",
       "                        <td id=\"T_c724a4da_54a8_11eb_bc6a_9457a5ee4b1brow44_col0\" class=\"data row44 col0\" >Clustering</td>\n",
       "                        <td id=\"T_c724a4da_54a8_11eb_bc6a_9457a5ee4b1brow44_col1\" class=\"data row44 col1\" >False</td>\n",
       "            </tr>\n",
       "            <tr>\n",
       "                        <th id=\"T_c724a4da_54a8_11eb_bc6a_9457a5ee4b1blevel0_row45\" class=\"row_heading level0 row45\" >45</th>\n",
       "                        <td id=\"T_c724a4da_54a8_11eb_bc6a_9457a5ee4b1brow45_col0\" class=\"data row45 col0\" >Clustering Iteration</td>\n",
       "                        <td id=\"T_c724a4da_54a8_11eb_bc6a_9457a5ee4b1brow45_col1\" class=\"data row45 col1\" >None</td>\n",
       "            </tr>\n",
       "            <tr>\n",
       "                        <th id=\"T_c724a4da_54a8_11eb_bc6a_9457a5ee4b1blevel0_row46\" class=\"row_heading level0 row46\" >46</th>\n",
       "                        <td id=\"T_c724a4da_54a8_11eb_bc6a_9457a5ee4b1brow46_col0\" class=\"data row46 col0\" >Polynomial Features</td>\n",
       "                        <td id=\"T_c724a4da_54a8_11eb_bc6a_9457a5ee4b1brow46_col1\" class=\"data row46 col1\" >False</td>\n",
       "            </tr>\n",
       "            <tr>\n",
       "                        <th id=\"T_c724a4da_54a8_11eb_bc6a_9457a5ee4b1blevel0_row47\" class=\"row_heading level0 row47\" >47</th>\n",
       "                        <td id=\"T_c724a4da_54a8_11eb_bc6a_9457a5ee4b1brow47_col0\" class=\"data row47 col0\" >Polynomial Degree</td>\n",
       "                        <td id=\"T_c724a4da_54a8_11eb_bc6a_9457a5ee4b1brow47_col1\" class=\"data row47 col1\" >None</td>\n",
       "            </tr>\n",
       "            <tr>\n",
       "                        <th id=\"T_c724a4da_54a8_11eb_bc6a_9457a5ee4b1blevel0_row48\" class=\"row_heading level0 row48\" >48</th>\n",
       "                        <td id=\"T_c724a4da_54a8_11eb_bc6a_9457a5ee4b1brow48_col0\" class=\"data row48 col0\" >Trignometry Features</td>\n",
       "                        <td id=\"T_c724a4da_54a8_11eb_bc6a_9457a5ee4b1brow48_col1\" class=\"data row48 col1\" >False</td>\n",
       "            </tr>\n",
       "            <tr>\n",
       "                        <th id=\"T_c724a4da_54a8_11eb_bc6a_9457a5ee4b1blevel0_row49\" class=\"row_heading level0 row49\" >49</th>\n",
       "                        <td id=\"T_c724a4da_54a8_11eb_bc6a_9457a5ee4b1brow49_col0\" class=\"data row49 col0\" >Polynomial Threshold</td>\n",
       "                        <td id=\"T_c724a4da_54a8_11eb_bc6a_9457a5ee4b1brow49_col1\" class=\"data row49 col1\" >None</td>\n",
       "            </tr>\n",
       "            <tr>\n",
       "                        <th id=\"T_c724a4da_54a8_11eb_bc6a_9457a5ee4b1blevel0_row50\" class=\"row_heading level0 row50\" >50</th>\n",
       "                        <td id=\"T_c724a4da_54a8_11eb_bc6a_9457a5ee4b1brow50_col0\" class=\"data row50 col0\" >Group Features</td>\n",
       "                        <td id=\"T_c724a4da_54a8_11eb_bc6a_9457a5ee4b1brow50_col1\" class=\"data row50 col1\" >False</td>\n",
       "            </tr>\n",
       "            <tr>\n",
       "                        <th id=\"T_c724a4da_54a8_11eb_bc6a_9457a5ee4b1blevel0_row51\" class=\"row_heading level0 row51\" >51</th>\n",
       "                        <td id=\"T_c724a4da_54a8_11eb_bc6a_9457a5ee4b1brow51_col0\" class=\"data row51 col0\" >Feature Selection</td>\n",
       "                        <td id=\"T_c724a4da_54a8_11eb_bc6a_9457a5ee4b1brow51_col1\" class=\"data row51 col1\" >False</td>\n",
       "            </tr>\n",
       "            <tr>\n",
       "                        <th id=\"T_c724a4da_54a8_11eb_bc6a_9457a5ee4b1blevel0_row52\" class=\"row_heading level0 row52\" >52</th>\n",
       "                        <td id=\"T_c724a4da_54a8_11eb_bc6a_9457a5ee4b1brow52_col0\" class=\"data row52 col0\" >Features Selection Threshold</td>\n",
       "                        <td id=\"T_c724a4da_54a8_11eb_bc6a_9457a5ee4b1brow52_col1\" class=\"data row52 col1\" >None</td>\n",
       "            </tr>\n",
       "            <tr>\n",
       "                        <th id=\"T_c724a4da_54a8_11eb_bc6a_9457a5ee4b1blevel0_row53\" class=\"row_heading level0 row53\" >53</th>\n",
       "                        <td id=\"T_c724a4da_54a8_11eb_bc6a_9457a5ee4b1brow53_col0\" class=\"data row53 col0\" >Feature Interaction</td>\n",
       "                        <td id=\"T_c724a4da_54a8_11eb_bc6a_9457a5ee4b1brow53_col1\" class=\"data row53 col1\" >False</td>\n",
       "            </tr>\n",
       "            <tr>\n",
       "                        <th id=\"T_c724a4da_54a8_11eb_bc6a_9457a5ee4b1blevel0_row54\" class=\"row_heading level0 row54\" >54</th>\n",
       "                        <td id=\"T_c724a4da_54a8_11eb_bc6a_9457a5ee4b1brow54_col0\" class=\"data row54 col0\" >Feature Ratio</td>\n",
       "                        <td id=\"T_c724a4da_54a8_11eb_bc6a_9457a5ee4b1brow54_col1\" class=\"data row54 col1\" >False</td>\n",
       "            </tr>\n",
       "            <tr>\n",
       "                        <th id=\"T_c724a4da_54a8_11eb_bc6a_9457a5ee4b1blevel0_row55\" class=\"row_heading level0 row55\" >55</th>\n",
       "                        <td id=\"T_c724a4da_54a8_11eb_bc6a_9457a5ee4b1brow55_col0\" class=\"data row55 col0\" >Interaction Threshold</td>\n",
       "                        <td id=\"T_c724a4da_54a8_11eb_bc6a_9457a5ee4b1brow55_col1\" class=\"data row55 col1\" >None</td>\n",
       "            </tr>\n",
       "            <tr>\n",
       "                        <th id=\"T_c724a4da_54a8_11eb_bc6a_9457a5ee4b1blevel0_row56\" class=\"row_heading level0 row56\" >56</th>\n",
       "                        <td id=\"T_c724a4da_54a8_11eb_bc6a_9457a5ee4b1brow56_col0\" class=\"data row56 col0\" >Fix Imbalance</td>\n",
       "                        <td id=\"T_c724a4da_54a8_11eb_bc6a_9457a5ee4b1brow56_col1\" class=\"data row56 col1\" >False</td>\n",
       "            </tr>\n",
       "            <tr>\n",
       "                        <th id=\"T_c724a4da_54a8_11eb_bc6a_9457a5ee4b1blevel0_row57\" class=\"row_heading level0 row57\" >57</th>\n",
       "                        <td id=\"T_c724a4da_54a8_11eb_bc6a_9457a5ee4b1brow57_col0\" class=\"data row57 col0\" >Fix Imbalance Method</td>\n",
       "                        <td id=\"T_c724a4da_54a8_11eb_bc6a_9457a5ee4b1brow57_col1\" class=\"data row57 col1\" >SMOTE</td>\n",
       "            </tr>\n",
       "    </tbody></table>"
      ],
      "text/plain": [
       "<pandas.io.formats.style.Styler at 0x11d266970>"
      ]
     },
     "metadata": {},
     "output_type": "display_data"
    }
   ],
   "source": [
    "from pycaret.classification import *\n",
    "classification = setup(data=data,target='death_yn',train_size=0.8)"
   ]
  },
  {
   "cell_type": "code",
   "execution_count": null,
   "metadata": {},
   "outputs": [
    {
     "data": {
      "application/vnd.jupyter.widget-view+json": {
       "model_id": "2775dda94ec14b6b997f9d7758ca80e3",
       "version_major": 2,
       "version_minor": 0
      },
      "text/plain": [
       "IntProgress(value=0, description='Processing: ', max=79)"
      ]
     },
     "metadata": {},
     "output_type": "display_data"
    },
    {
     "data": {
      "text/html": [
       "<div>\n",
       "<style scoped>\n",
       "    .dataframe tbody tr th:only-of-type {\n",
       "        vertical-align: middle;\n",
       "    }\n",
       "\n",
       "    .dataframe tbody tr th {\n",
       "        vertical-align: top;\n",
       "    }\n",
       "\n",
       "    .dataframe thead th {\n",
       "        text-align: right;\n",
       "    }\n",
       "</style>\n",
       "<table border=\"1\" class=\"dataframe\">\n",
       "  <thead>\n",
       "    <tr style=\"text-align: right;\">\n",
       "      <th></th>\n",
       "      <th></th>\n",
       "      <th></th>\n",
       "    </tr>\n",
       "    <tr>\n",
       "      <th></th>\n",
       "      <th></th>\n",
       "      <th></th>\n",
       "    </tr>\n",
       "  </thead>\n",
       "  <tbody>\n",
       "    <tr>\n",
       "      <th>Initiated</th>\n",
       "      <td>. . . . . . . . . . . . . . . . . .</td>\n",
       "      <td>15:38:08</td>\n",
       "    </tr>\n",
       "    <tr>\n",
       "      <th>Status</th>\n",
       "      <td>. . . . . . . . . . . . . . . . . .</td>\n",
       "      <td>Fitting 10 Folds</td>\n",
       "    </tr>\n",
       "    <tr>\n",
       "      <th>Estimator</th>\n",
       "      <td>. . . . . . . . . . . . . . . . . .</td>\n",
       "      <td>Logistic Regression</td>\n",
       "    </tr>\n",
       "  </tbody>\n",
       "</table>\n",
       "</div>"
      ],
      "text/plain": [
       "                                                                   \n",
       "                                                                   \n",
       "Initiated  . . . . . . . . . . . . . . . . . .             15:38:08\n",
       "Status     . . . . . . . . . . . . . . . . . .     Fitting 10 Folds\n",
       "Estimator  . . . . . . . . . . . . . . . . . .  Logistic Regression"
      ]
     },
     "metadata": {},
     "output_type": "display_data"
    },
    {
     "data": {
      "text/html": [
       "<div>\n",
       "<style scoped>\n",
       "    .dataframe tbody tr th:only-of-type {\n",
       "        vertical-align: middle;\n",
       "    }\n",
       "\n",
       "    .dataframe tbody tr th {\n",
       "        vertical-align: top;\n",
       "    }\n",
       "\n",
       "    .dataframe thead th {\n",
       "        text-align: right;\n",
       "    }\n",
       "</style>\n",
       "<table border=\"1\" class=\"dataframe\">\n",
       "  <thead>\n",
       "    <tr style=\"text-align: right;\">\n",
       "      <th></th>\n",
       "      <th>Model</th>\n",
       "      <th>Accuracy</th>\n",
       "      <th>AUC</th>\n",
       "      <th>Recall</th>\n",
       "      <th>Prec.</th>\n",
       "      <th>F1</th>\n",
       "      <th>Kappa</th>\n",
       "      <th>MCC</th>\n",
       "      <th>TT (Sec)</th>\n",
       "    </tr>\n",
       "  </thead>\n",
       "  <tbody>\n",
       "  </tbody>\n",
       "</table>\n",
       "</div>"
      ],
      "text/plain": [
       "Empty DataFrame\n",
       "Columns: [Model, Accuracy, AUC, Recall, Prec., F1, Kappa, MCC, TT (Sec)]\n",
       "Index: []"
      ]
     },
     "metadata": {},
     "output_type": "display_data"
    }
   ],
   "source": [
    "best=compare_models()"
   ]
  },
  {
   "cell_type": "code",
   "execution_count": null,
   "metadata": {},
   "outputs": [],
   "source": []
  }
 ],
 "metadata": {
  "kernelspec": {
   "display_name": "Python 3",
   "language": "python",
   "name": "python3"
  },
  "language_info": {
   "codemirror_mode": {
    "name": "ipython",
    "version": 3
   },
   "file_extension": ".py",
   "mimetype": "text/x-python",
   "name": "python",
   "nbconvert_exporter": "python",
   "pygments_lexer": "ipython3",
   "version": "3.8.3"
  }
 },
 "nbformat": 4,
 "nbformat_minor": 4
}
